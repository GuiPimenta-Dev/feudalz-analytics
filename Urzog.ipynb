{
 "cells": [
  {
   "cell_type": "code",
   "execution_count": 1,
   "id": "6ad2d5a5",
   "metadata": {},
   "outputs": [],
   "source": [
    "import warnings\n",
    "import pandas as pd\n",
    "import matplotlib as mpl\n",
    "import matplotlib.pyplot as plt\n",
    "from game import Game\n",
    "from models import Player, Land, MockPlayer\n",
    "from utils.fc import get_df_over_increase, create_mock_game, simulation, merge_dfs, get_diff, get_df_columns_mean, get_df_columns_sum\n",
    "from utils.mpl import plot_scatter, plot_line_with_scatter"
   ]
  },
  {
   "cell_type": "code",
   "execution_count": 2,
   "id": "f2aa87f1",
   "metadata": {
    "scrolled": false
   },
   "outputs": [],
   "source": [
    "df = simulation(my_defense_bonus=0, my_attack_bonus=0, enemy_defense_bonus=13.8,group=False)\n",
    "df1 = simulation(my_defense_bonus=0, my_attack_bonus=0, enemy_defense_bonus=13.8,hero='urzog', rarity='usual', group=False)\n",
    "df2 = simulation(my_defense_bonus=0, my_attack_bonus=0, enemy_defense_bonus=13.8,hero='urzog', rarity='unusual', group=False)\n",
    "df3 = simulation(my_defense_bonus=0, my_attack_bonus=0, enemy_defense_bonus=13.8,hero='urzog', rarity='rare', group=False)\n",
    "df4 = simulation(my_defense_bonus=0, my_attack_bonus=0, enemy_defense_bonus=13.8,hero='urzog', rarity='epic', group=False)\n",
    "df = merge_dfs(dfs=[df, df1, df2, df3, df4], column='goldz', pk='day', limits=(20,30))\n"
   ]
  },
  {
   "cell_type": "markdown",
   "id": "4b99ef6e",
   "metadata": {},
   "source": [
    "# COMPARING ATTACKS BETWEEN RARITYS"
   ]
  },
  {
   "cell_type": "code",
   "execution_count": 3,
   "id": "d9f1e52a",
   "metadata": {
    "scrolled": true
   },
   "outputs": [
    {
     "data": {
      "text/html": [
       "<div>\n",
       "<style scoped>\n",
       "    .dataframe tbody tr th:only-of-type {\n",
       "        vertical-align: middle;\n",
       "    }\n",
       "\n",
       "    .dataframe tbody tr th {\n",
       "        vertical-align: top;\n",
       "    }\n",
       "\n",
       "    .dataframe thead th {\n",
       "        text-align: right;\n",
       "    }\n",
       "</style>\n",
       "<table border=\"1\" class=\"dataframe\">\n",
       "  <thead>\n",
       "    <tr style=\"text-align: right;\">\n",
       "      <th></th>\n",
       "      <th>day</th>\n",
       "      <th>no_hero</th>\n",
       "      <th>usual</th>\n",
       "      <th>unusual</th>\n",
       "      <th>rare</th>\n",
       "      <th>epic</th>\n",
       "    </tr>\n",
       "  </thead>\n",
       "  <tbody>\n",
       "    <tr>\n",
       "      <th>20</th>\n",
       "      <td>11.0</td>\n",
       "      <td>1.44</td>\n",
       "      <td>2.02</td>\n",
       "      <td>2.40</td>\n",
       "      <td>3.18</td>\n",
       "      <td>3.14</td>\n",
       "    </tr>\n",
       "    <tr>\n",
       "      <th>21</th>\n",
       "      <td>11.0</td>\n",
       "      <td>1.56</td>\n",
       "      <td>1.75</td>\n",
       "      <td>2.00</td>\n",
       "      <td>2.50</td>\n",
       "      <td>2.91</td>\n",
       "    </tr>\n",
       "    <tr>\n",
       "      <th>22</th>\n",
       "      <td>12.0</td>\n",
       "      <td>1.24</td>\n",
       "      <td>1.94</td>\n",
       "      <td>2.34</td>\n",
       "      <td>2.38</td>\n",
       "      <td>3.10</td>\n",
       "    </tr>\n",
       "    <tr>\n",
       "      <th>23</th>\n",
       "      <td>12.0</td>\n",
       "      <td>1.20</td>\n",
       "      <td>1.75</td>\n",
       "      <td>2.35</td>\n",
       "      <td>2.69</td>\n",
       "      <td>3.46</td>\n",
       "    </tr>\n",
       "    <tr>\n",
       "      <th>24</th>\n",
       "      <td>13.0</td>\n",
       "      <td>1.51</td>\n",
       "      <td>1.57</td>\n",
       "      <td>2.42</td>\n",
       "      <td>2.37</td>\n",
       "      <td>3.38</td>\n",
       "    </tr>\n",
       "    <tr>\n",
       "      <th>25</th>\n",
       "      <td>13.0</td>\n",
       "      <td>1.59</td>\n",
       "      <td>2.00</td>\n",
       "      <td>2.38</td>\n",
       "      <td>2.02</td>\n",
       "      <td>2.90</td>\n",
       "    </tr>\n",
       "    <tr>\n",
       "      <th>26</th>\n",
       "      <td>14.0</td>\n",
       "      <td>1.59</td>\n",
       "      <td>2.08</td>\n",
       "      <td>2.46</td>\n",
       "      <td>2.48</td>\n",
       "      <td>3.40</td>\n",
       "    </tr>\n",
       "    <tr>\n",
       "      <th>27</th>\n",
       "      <td>14.0</td>\n",
       "      <td>1.39</td>\n",
       "      <td>1.48</td>\n",
       "      <td>1.75</td>\n",
       "      <td>2.46</td>\n",
       "      <td>3.10</td>\n",
       "    </tr>\n",
       "    <tr>\n",
       "      <th>28</th>\n",
       "      <td>15.0</td>\n",
       "      <td>1.44</td>\n",
       "      <td>2.08</td>\n",
       "      <td>2.49</td>\n",
       "      <td>2.88</td>\n",
       "      <td>2.94</td>\n",
       "    </tr>\n",
       "    <tr>\n",
       "      <th>29</th>\n",
       "      <td>15.0</td>\n",
       "      <td>1.42</td>\n",
       "      <td>1.93</td>\n",
       "      <td>1.96</td>\n",
       "      <td>2.52</td>\n",
       "      <td>3.08</td>\n",
       "    </tr>\n",
       "  </tbody>\n",
       "</table>\n",
       "</div>"
      ],
      "text/plain": [
       "     day  no_hero  usual  unusual  rare  epic\n",
       "20  11.0     1.44   2.02     2.40  3.18  3.14\n",
       "21  11.0     1.56   1.75     2.00  2.50  2.91\n",
       "22  12.0     1.24   1.94     2.34  2.38  3.10\n",
       "23  12.0     1.20   1.75     2.35  2.69  3.46\n",
       "24  13.0     1.51   1.57     2.42  2.37  3.38\n",
       "25  13.0     1.59   2.00     2.38  2.02  2.90\n",
       "26  14.0     1.59   2.08     2.46  2.48  3.40\n",
       "27  14.0     1.39   1.48     1.75  2.46  3.10\n",
       "28  15.0     1.44   2.08     2.49  2.88  2.94\n",
       "29  15.0     1.42   1.93     1.96  2.52  3.08"
      ]
     },
     "execution_count": 3,
     "metadata": {},
     "output_type": "execute_result"
    }
   ],
   "source": [
    "df"
   ]
  },
  {
   "cell_type": "markdown",
   "id": "ff239ee3",
   "metadata": {},
   "source": [
    "# TOTAL GOLDZ AFTER 10 ATTACKS"
   ]
  },
  {
   "cell_type": "code",
   "execution_count": 4,
   "id": "256963dc",
   "metadata": {},
   "outputs": [
    {
     "data": {
      "text/html": [
       "<div>\n",
       "<style scoped>\n",
       "    .dataframe tbody tr th:only-of-type {\n",
       "        vertical-align: middle;\n",
       "    }\n",
       "\n",
       "    .dataframe tbody tr th {\n",
       "        vertical-align: top;\n",
       "    }\n",
       "\n",
       "    .dataframe thead th {\n",
       "        text-align: right;\n",
       "    }\n",
       "</style>\n",
       "<table border=\"1\" class=\"dataframe\">\n",
       "  <thead>\n",
       "    <tr style=\"text-align: right;\">\n",
       "      <th></th>\n",
       "      <th>no_hero</th>\n",
       "      <th>usual</th>\n",
       "      <th>unusual</th>\n",
       "      <th>rare</th>\n",
       "      <th>epic</th>\n",
       "    </tr>\n",
       "  </thead>\n",
       "  <tbody>\n",
       "    <tr>\n",
       "      <th>0</th>\n",
       "      <td>14.38</td>\n",
       "      <td>18.6</td>\n",
       "      <td>22.55</td>\n",
       "      <td>25.48</td>\n",
       "      <td>31.41</td>\n",
       "    </tr>\n",
       "  </tbody>\n",
       "</table>\n",
       "</div>"
      ],
      "text/plain": [
       "   no_hero  usual  unusual   rare   epic\n",
       "0    14.38   18.6    22.55  25.48  31.41"
      ]
     },
     "execution_count": 4,
     "metadata": {},
     "output_type": "execute_result"
    }
   ],
   "source": [
    "df_sum = get_df_columns_sum(df, ['no_hero','usual', 'unusual', 'rare', 'epic'])\n",
    "df_sum"
   ]
  },
  {
   "cell_type": "code",
   "execution_count": 5,
   "id": "72946109",
   "metadata": {
    "scrolled": false
   },
   "outputs": [
    {
     "data": {
      "text/plain": [
       "Text(0.5, 1.0, 'Total Goldz After 5 Days')"
      ]
     },
     "execution_count": 5,
     "metadata": {},
     "output_type": "execute_result"
    },
    {
     "data": {
      "image/png": "[encoded data removed]",
      "text/plain": [
       "<Figure size 1440x720 with 1 Axes>"
      ]
     },
     "metadata": {
      "needs_background": "light"
     },
     "output_type": "display_data"
    }
   ],
   "source": [
    "df_sum = pd.DataFrame({'heroes':df_sum.columns, 'goldz':df_sum.iloc[0].to_list()})\n",
    "\n",
    "ax = df_sum.plot.bar(x='heroes', y='goldz', rot=0, figsize=(20,10), fontsize=25, xlabel='Rarity')\n",
    "\n",
    "for container in ax.containers:\n",
    "    ax.bar_label(container, fontsize=20)\n",
    "\n",
    "\n",
    "ax.legend(prop={'size': 20})\n",
    "ax.set_ylabel(None,fontsize=20)\n",
    "\n",
    "\n",
    "ax.set_title(f\"Total Goldz After 5 Days\", fontsize=20)"
   ]
  },
  {
   "cell_type": "markdown",
   "id": "68809a83",
   "metadata": {},
   "source": [
    "# GOLDZ AVERAGE ON EACH ATTACK"
   ]
  },
  {
   "cell_type": "code",
   "execution_count": 6,
   "id": "7ba9fd42",
   "metadata": {},
   "outputs": [
    {
     "data": {
      "text/html": [
       "<div>\n",
       "<style scoped>\n",
       "    .dataframe tbody tr th:only-of-type {\n",
       "        vertical-align: middle;\n",
       "    }\n",
       "\n",
       "    .dataframe tbody tr th {\n",
       "        vertical-align: top;\n",
       "    }\n",
       "\n",
       "    .dataframe thead th {\n",
       "        text-align: right;\n",
       "    }\n",
       "</style>\n",
       "<table border=\"1\" class=\"dataframe\">\n",
       "  <thead>\n",
       "    <tr style=\"text-align: right;\">\n",
       "      <th></th>\n",
       "      <th>no_hero</th>\n",
       "      <th>usual</th>\n",
       "      <th>unusual</th>\n",
       "      <th>rare</th>\n",
       "      <th>epic</th>\n",
       "    </tr>\n",
       "  </thead>\n",
       "  <tbody>\n",
       "    <tr>\n",
       "      <th>0</th>\n",
       "      <td>1.438</td>\n",
       "      <td>1.86</td>\n",
       "      <td>2.255</td>\n",
       "      <td>2.548</td>\n",
       "      <td>3.141</td>\n",
       "    </tr>\n",
       "  </tbody>\n",
       "</table>\n",
       "</div>"
      ],
      "text/plain": [
       "   no_hero  usual  unusual   rare   epic\n",
       "0    1.438   1.86    2.255  2.548  3.141"
      ]
     },
     "execution_count": 6,
     "metadata": {},
     "output_type": "execute_result"
    }
   ],
   "source": [
    "df_mean = get_df_columns_mean(df, ['no_hero','usual', 'unusual', 'rare', 'epic'])\n",
    "df_mean"
   ]
  },
  {
   "cell_type": "code",
   "execution_count": 7,
   "id": "d6b9eedb",
   "metadata": {},
   "outputs": [
    {
     "data": {
      "text/plain": [
       "Text(0.5, 1.0, 'Goldz Average on Each attack')"
      ]
     },
     "execution_count": 7,
     "metadata": {},
     "output_type": "execute_result"
    },
    {
     "data": {
      "image/png": "[encoded data removed]",
      "text/plain": [
       "<Figure size 1440x720 with 1 Axes>"
      ]
     },
     "metadata": {
      "needs_background": "light"
     },
     "output_type": "display_data"
    }
   ],
   "source": [
    "\n",
    "df_mean = pd.DataFrame({'heroes':df_mean.columns, 'goldz':df_mean.iloc[0].to_list()})\n",
    "\n",
    "ax = df_mean.plot.bar(x='heroes', y='goldz', rot=0, figsize=(20,10), fontsize=25, xlabel='Rarity')\n",
    "\n",
    "for container in ax.containers:\n",
    "    ax.bar_label(container, fontsize=20)\n",
    "\n",
    "\n",
    "ax.legend(prop={'size': 20})\n",
    "ax.set_ylabel(None,fontsize=20)\n",
    "\n",
    "\n",
    "ax.set_title(f\"Goldz Average on Each attack\", fontsize=20)"
   ]
  },
  {
   "cell_type": "markdown",
   "id": "ece4e7ed",
   "metadata": {},
   "source": [
    "# GOLDZ DIFFERENCE COMPARED TO NO HERO"
   ]
  },
  {
   "cell_type": "code",
   "execution_count": 8,
   "id": "39cc38f7",
   "metadata": {},
   "outputs": [
    {
     "data": {
      "text/html": [
       "<div>\n",
       "<style scoped>\n",
       "    .dataframe tbody tr th:only-of-type {\n",
       "        vertical-align: middle;\n",
       "    }\n",
       "\n",
       "    .dataframe tbody tr th {\n",
       "        vertical-align: top;\n",
       "    }\n",
       "\n",
       "    .dataframe thead th {\n",
       "        text-align: right;\n",
       "    }\n",
       "</style>\n",
       "<table border=\"1\" class=\"dataframe\">\n",
       "  <thead>\n",
       "    <tr style=\"text-align: right;\">\n",
       "      <th></th>\n",
       "      <th>day</th>\n",
       "      <th>usual</th>\n",
       "      <th>unusual</th>\n",
       "      <th>rare</th>\n",
       "      <th>epic</th>\n",
       "    </tr>\n",
       "  </thead>\n",
       "  <tbody>\n",
       "    <tr>\n",
       "      <th>20</th>\n",
       "      <td>11.0</td>\n",
       "      <td>0.58</td>\n",
       "      <td>0.96</td>\n",
       "      <td>1.74</td>\n",
       "      <td>1.70</td>\n",
       "    </tr>\n",
       "    <tr>\n",
       "      <th>21</th>\n",
       "      <td>11.0</td>\n",
       "      <td>0.19</td>\n",
       "      <td>0.44</td>\n",
       "      <td>0.94</td>\n",
       "      <td>1.35</td>\n",
       "    </tr>\n",
       "    <tr>\n",
       "      <th>22</th>\n",
       "      <td>12.0</td>\n",
       "      <td>0.70</td>\n",
       "      <td>1.10</td>\n",
       "      <td>1.14</td>\n",
       "      <td>1.86</td>\n",
       "    </tr>\n",
       "    <tr>\n",
       "      <th>23</th>\n",
       "      <td>12.0</td>\n",
       "      <td>0.55</td>\n",
       "      <td>1.15</td>\n",
       "      <td>1.49</td>\n",
       "      <td>2.26</td>\n",
       "    </tr>\n",
       "    <tr>\n",
       "      <th>24</th>\n",
       "      <td>13.0</td>\n",
       "      <td>0.06</td>\n",
       "      <td>0.91</td>\n",
       "      <td>0.86</td>\n",
       "      <td>1.87</td>\n",
       "    </tr>\n",
       "    <tr>\n",
       "      <th>25</th>\n",
       "      <td>13.0</td>\n",
       "      <td>0.41</td>\n",
       "      <td>0.79</td>\n",
       "      <td>0.43</td>\n",
       "      <td>1.31</td>\n",
       "    </tr>\n",
       "    <tr>\n",
       "      <th>26</th>\n",
       "      <td>14.0</td>\n",
       "      <td>0.49</td>\n",
       "      <td>0.87</td>\n",
       "      <td>0.89</td>\n",
       "      <td>1.81</td>\n",
       "    </tr>\n",
       "    <tr>\n",
       "      <th>27</th>\n",
       "      <td>14.0</td>\n",
       "      <td>0.09</td>\n",
       "      <td>0.36</td>\n",
       "      <td>1.07</td>\n",
       "      <td>1.71</td>\n",
       "    </tr>\n",
       "    <tr>\n",
       "      <th>28</th>\n",
       "      <td>15.0</td>\n",
       "      <td>0.64</td>\n",
       "      <td>1.05</td>\n",
       "      <td>1.44</td>\n",
       "      <td>1.50</td>\n",
       "    </tr>\n",
       "    <tr>\n",
       "      <th>29</th>\n",
       "      <td>15.0</td>\n",
       "      <td>0.51</td>\n",
       "      <td>0.54</td>\n",
       "      <td>1.10</td>\n",
       "      <td>1.66</td>\n",
       "    </tr>\n",
       "  </tbody>\n",
       "</table>\n",
       "</div>"
      ],
      "text/plain": [
       "     day  usual  unusual  rare  epic\n",
       "20  11.0   0.58     0.96  1.74  1.70\n",
       "21  11.0   0.19     0.44  0.94  1.35\n",
       "22  12.0   0.70     1.10  1.14  1.86\n",
       "23  12.0   0.55     1.15  1.49  2.26\n",
       "24  13.0   0.06     0.91  0.86  1.87\n",
       "25  13.0   0.41     0.79  0.43  1.31\n",
       "26  14.0   0.49     0.87  0.89  1.81\n",
       "27  14.0   0.09     0.36  1.07  1.71\n",
       "28  15.0   0.64     1.05  1.44  1.50\n",
       "29  15.0   0.51     0.54  1.10  1.66"
      ]
     },
     "execution_count": 8,
     "metadata": {},
     "output_type": "execute_result"
    }
   ],
   "source": [
    "df = get_diff(df=df)\n",
    "df"
   ]
  },
  {
   "cell_type": "markdown",
   "id": "94130273",
   "metadata": {},
   "source": [
    "# TOTAL GOLDZ EARNED COMPARED TO NO HERO"
   ]
  },
  {
   "cell_type": "code",
   "execution_count": 9,
   "id": "eefd6ef7",
   "metadata": {},
   "outputs": [
    {
     "data": {
      "text/html": [
       "<div>\n",
       "<style scoped>\n",
       "    .dataframe tbody tr th:only-of-type {\n",
       "        vertical-align: middle;\n",
       "    }\n",
       "\n",
       "    .dataframe tbody tr th {\n",
       "        vertical-align: top;\n",
       "    }\n",
       "\n",
       "    .dataframe thead th {\n",
       "        text-align: right;\n",
       "    }\n",
       "</style>\n",
       "<table border=\"1\" class=\"dataframe\">\n",
       "  <thead>\n",
       "    <tr style=\"text-align: right;\">\n",
       "      <th></th>\n",
       "      <th>usual</th>\n",
       "      <th>unusual</th>\n",
       "      <th>rare</th>\n",
       "      <th>epic</th>\n",
       "    </tr>\n",
       "  </thead>\n",
       "  <tbody>\n",
       "    <tr>\n",
       "      <th>0</th>\n",
       "      <td>4.22</td>\n",
       "      <td>8.17</td>\n",
       "      <td>11.1</td>\n",
       "      <td>17.03</td>\n",
       "    </tr>\n",
       "  </tbody>\n",
       "</table>\n",
       "</div>"
      ],
      "text/plain": [
       "   usual  unusual  rare   epic\n",
       "0   4.22     8.17  11.1  17.03"
      ]
     },
     "execution_count": 9,
     "metadata": {},
     "output_type": "execute_result"
    }
   ],
   "source": [
    "df_diff_sum = get_df_columns_sum(df, ['usual', 'unusual', 'rare', 'epic'])\n",
    "df_diff_sum"
   ]
  },
  {
   "cell_type": "code",
   "execution_count": 10,
   "id": "e12af376",
   "metadata": {},
   "outputs": [
    {
     "data": {
      "text/plain": [
       "Text(0.5, 1.0, 'Total Diff Goldz After 5 Days Compared to No Hero')"
      ]
     },
     "execution_count": 10,
     "metadata": {},
     "output_type": "execute_result"
    },
    {
     "data": {
      "image/png": "[encoded data removed]",
      "text/plain": [
       "<Figure size 1440x720 with 1 Axes>"
      ]
     },
     "metadata": {
      "needs_background": "light"
     },
     "output_type": "display_data"
    }
   ],
   "source": [
    "df_diff_sum = pd.DataFrame({'heroes':df_diff_sum.columns, 'goldz':df_diff_sum.iloc[0].to_list()})\n",
    "\n",
    "ax = df_diff_sum.plot.bar(x='heroes', y='goldz', rot=0, figsize=(20,10), fontsize=25, xlabel='Rarity')\n",
    "\n",
    "for container in ax.containers:\n",
    "    ax.bar_label(container, fontsize=20)\n",
    "\n",
    "\n",
    "ax.legend(prop={'size': 20})\n",
    "\n",
    "ax.set_title(f\"Total Diff Goldz After 5 Days Compared to No Hero\", fontsize=20)"
   ]
  },
  {
   "cell_type": "markdown",
   "id": "df54f4df",
   "metadata": {},
   "source": [
    "# GOLDZ DIFFERENCE EARNED PER ATTACK COMPARED TO NO HERO\n"
   ]
  },
  {
   "cell_type": "code",
   "execution_count": 11,
   "id": "620b43cb",
   "metadata": {},
   "outputs": [
    {
     "data": {
      "text/html": [
       "<div>\n",
       "<style scoped>\n",
       "    .dataframe tbody tr th:only-of-type {\n",
       "        vertical-align: middle;\n",
       "    }\n",
       "\n",
       "    .dataframe tbody tr th {\n",
       "        vertical-align: top;\n",
       "    }\n",
       "\n",
       "    .dataframe thead th {\n",
       "        text-align: right;\n",
       "    }\n",
       "</style>\n",
       "<table border=\"1\" class=\"dataframe\">\n",
       "  <thead>\n",
       "    <tr style=\"text-align: right;\">\n",
       "      <th></th>\n",
       "      <th>usual</th>\n",
       "      <th>unusual</th>\n",
       "      <th>rare</th>\n",
       "      <th>epic</th>\n",
       "    </tr>\n",
       "  </thead>\n",
       "  <tbody>\n",
       "    <tr>\n",
       "      <th>0</th>\n",
       "      <td>0.422</td>\n",
       "      <td>0.817</td>\n",
       "      <td>1.11</td>\n",
       "      <td>1.703</td>\n",
       "    </tr>\n",
       "  </tbody>\n",
       "</table>\n",
       "</div>"
      ],
      "text/plain": [
       "   usual  unusual  rare   epic\n",
       "0  0.422    0.817  1.11  1.703"
      ]
     },
     "execution_count": 11,
     "metadata": {},
     "output_type": "execute_result"
    }
   ],
   "source": [
    "df_diff_mean = get_df_columns_mean(df, ['usual', 'unusual', 'rare', 'epic'])\n",
    "df_diff_mean"
   ]
  },
  {
   "cell_type": "code",
   "execution_count": 12,
   "id": "9c6dfe57",
   "metadata": {},
   "outputs": [
    {
     "data": {
      "text/plain": [
       "Text(0.5, 1.0, 'Diff Goldz Average per Attack')"
      ]
     },
     "execution_count": 12,
     "metadata": {},
     "output_type": "execute_result"
    },
    {
     "data": {
      "image/png": "[encoded data removed]",
      "text/plain": [
       "<Figure size 1440x720 with 1 Axes>"
      ]
     },
     "metadata": {
      "needs_background": "light"
     },
     "output_type": "display_data"
    }
   ],
   "source": [
    "df_diff_mean = pd.DataFrame({'heroes':df_diff_mean.columns, 'goldz':df_diff_mean.iloc[0].to_list()})\n",
    "\n",
    "ax = df_diff_mean.plot.bar(x='heroes', y='goldz', rot=0, figsize=(20,10), fontsize=25, xlabel='Rarity')\n",
    "# ax = df_diff_mean0.plot.bar(x='heroes', y='goldz', rot=0, figsize=(20,10), fontsize=25, xlabel='Rarity')\n",
    "\n",
    "for container in ax.containers:\n",
    "    ax.bar_label(container, fontsize=20)\n",
    "\n",
    "\n",
    "ax.legend(prop={'size': 20})\n",
    "\n",
    "ax.set_title(f\"Diff Goldz Average per Attack\", fontsize=20)"
   ]
  },
  {
   "cell_type": "code",
   "execution_count": null,
   "id": "f0b35dd0",
   "metadata": {},
   "outputs": [],
   "source": []
  }
 ],
 "metadata": {
  "kernelspec": {
   "display_name": "Python 3 (ipykernel)",
   "language": "python",
   "name": "python3"
  },
  "language_info": {
   "codemirror_mode": {
    "name": "ipython",
    "version": 3
   },
   "file_extension": ".py",
   "mimetype": "text/x-python",
   "name": "python",
   "nbconvert_exporter": "python",
   "pygments_lexer": "ipython3",
   "version": "3.9.7"
  }
 },
 "nbformat": 4,
 "nbformat_minor": 5
}
