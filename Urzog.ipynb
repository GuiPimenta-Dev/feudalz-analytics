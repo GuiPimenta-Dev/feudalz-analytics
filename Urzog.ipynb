{
 "cells": [
  {
   "cell_type": "code",
   "execution_count": 1,
   "id": "6ad2d5a5",
   "metadata": {},
   "outputs": [],
   "source": [
    "import warnings\n",
    "import pandas as pd\n",
    "import matplotlib as mpl\n",
    "import matplotlib.pyplot as plt\n",
    "from game import Game\n",
    "from models import Player, Land, MockPlayer\n",
    "from utils.fc import get_df_over_increase, create_mock_game, simulation, merge_dfs, get_diff, get_df_columns_mean, get_df_columns_sum\n",
    "from utils.mpl import plot_scatter, plot_line_with_scatter"
   ]
  },
  {
   "cell_type": "code",
   "execution_count": 2,
   "id": "f2aa87f1",
   "metadata": {
    "scrolled": false
   },
   "outputs": [],
   "source": [
    "df = simulation(my_defense_bonus=0, my_attack_bonus=65, enemy_defense_bonus=13.8,group=False)\n",
    "df1 = simulation(my_defense_bonus=0, my_attack_bonus=65, enemy_defense_bonus=13.8,hero='urzog', rarity='usual', group=False)\n",
    "df2 = simulation(my_defense_bonus=0, my_attack_bonus=65, enemy_defense_bonus=13.8,hero='urzog', rarity='unusual', group=False)\n",
    "df3 = simulation(my_defense_bonus=0, my_attack_bonus=65, enemy_defense_bonus=13.8,hero='urzog', rarity='rare', group=False)\n",
    "df4 = simulation(my_defense_bonus=0, my_attack_bonus=65, enemy_defense_bonus=13.8,hero='urzog', rarity='epic', group=False)\n",
    "df = merge_dfs(dfs=[df, df1, df2, df3, df4], column='goldz', pk='day', limits=(20,30))\n"
   ]
  },
  {
   "cell_type": "markdown",
   "id": "7ec326e0",
   "metadata": {},
   "source": [
    "# COMPARING ATTACKS BETWEEN RARITYS"
   ]
  },
  {
   "cell_type": "code",
   "execution_count": 3,
   "id": "6ce3de3d",
   "metadata": {},
   "outputs": [
    {
     "data": {
      "text/html": [
       "<div>\n",
       "<style scoped>\n",
       "    .dataframe tbody tr th:only-of-type {\n",
       "        vertical-align: middle;\n",
       "    }\n",
       "\n",
       "    .dataframe tbody tr th {\n",
       "        vertical-align: top;\n",
       "    }\n",
       "\n",
       "    .dataframe thead th {\n",
       "        text-align: right;\n",
       "    }\n",
       "</style>\n",
       "<table border=\"1\" class=\"dataframe\">\n",
       "  <thead>\n",
       "    <tr style=\"text-align: right;\">\n",
       "      <th></th>\n",
       "      <th>day</th>\n",
       "      <th>no_hero</th>\n",
       "      <th>usual</th>\n",
       "      <th>unusual</th>\n",
       "      <th>rare</th>\n",
       "      <th>epic</th>\n",
       "    </tr>\n",
       "  </thead>\n",
       "  <tbody>\n",
       "    <tr>\n",
       "      <th>20</th>\n",
       "      <td>11.0</td>\n",
       "      <td>4.80</td>\n",
       "      <td>5.28</td>\n",
       "      <td>5.38</td>\n",
       "      <td>6.14</td>\n",
       "      <td>6.24</td>\n",
       "    </tr>\n",
       "    <tr>\n",
       "      <th>21</th>\n",
       "      <td>11.0</td>\n",
       "      <td>4.94</td>\n",
       "      <td>5.30</td>\n",
       "      <td>5.36</td>\n",
       "      <td>5.56</td>\n",
       "      <td>6.30</td>\n",
       "    </tr>\n",
       "    <tr>\n",
       "      <th>22</th>\n",
       "      <td>12.0</td>\n",
       "      <td>4.52</td>\n",
       "      <td>5.00</td>\n",
       "      <td>5.32</td>\n",
       "      <td>5.54</td>\n",
       "      <td>6.36</td>\n",
       "    </tr>\n",
       "    <tr>\n",
       "      <th>23</th>\n",
       "      <td>12.0</td>\n",
       "      <td>4.50</td>\n",
       "      <td>4.94</td>\n",
       "      <td>5.76</td>\n",
       "      <td>5.94</td>\n",
       "      <td>6.06</td>\n",
       "    </tr>\n",
       "    <tr>\n",
       "      <th>24</th>\n",
       "      <td>13.0</td>\n",
       "      <td>4.98</td>\n",
       "      <td>4.84</td>\n",
       "      <td>5.48</td>\n",
       "      <td>5.74</td>\n",
       "      <td>6.08</td>\n",
       "    </tr>\n",
       "    <tr>\n",
       "      <th>25</th>\n",
       "      <td>13.0</td>\n",
       "      <td>4.68</td>\n",
       "      <td>5.18</td>\n",
       "      <td>5.88</td>\n",
       "      <td>5.80</td>\n",
       "      <td>6.12</td>\n",
       "    </tr>\n",
       "    <tr>\n",
       "      <th>26</th>\n",
       "      <td>14.0</td>\n",
       "      <td>4.90</td>\n",
       "      <td>5.12</td>\n",
       "      <td>5.78</td>\n",
       "      <td>5.74</td>\n",
       "      <td>6.08</td>\n",
       "    </tr>\n",
       "    <tr>\n",
       "      <th>27</th>\n",
       "      <td>14.0</td>\n",
       "      <td>5.02</td>\n",
       "      <td>4.88</td>\n",
       "      <td>5.58</td>\n",
       "      <td>6.16</td>\n",
       "      <td>5.96</td>\n",
       "    </tr>\n",
       "    <tr>\n",
       "      <th>28</th>\n",
       "      <td>15.0</td>\n",
       "      <td>4.56</td>\n",
       "      <td>5.36</td>\n",
       "      <td>5.80</td>\n",
       "      <td>5.86</td>\n",
       "      <td>6.14</td>\n",
       "    </tr>\n",
       "    <tr>\n",
       "      <th>29</th>\n",
       "      <td>15.0</td>\n",
       "      <td>4.96</td>\n",
       "      <td>5.12</td>\n",
       "      <td>5.08</td>\n",
       "      <td>5.78</td>\n",
       "      <td>6.00</td>\n",
       "    </tr>\n",
       "  </tbody>\n",
       "</table>\n",
       "</div>"
      ],
      "text/plain": [
       "     day  no_hero  usual  unusual  rare  epic\n",
       "20  11.0     4.80   5.28     5.38  6.14  6.24\n",
       "21  11.0     4.94   5.30     5.36  5.56  6.30\n",
       "22  12.0     4.52   5.00     5.32  5.54  6.36\n",
       "23  12.0     4.50   4.94     5.76  5.94  6.06\n",
       "24  13.0     4.98   4.84     5.48  5.74  6.08\n",
       "25  13.0     4.68   5.18     5.88  5.80  6.12\n",
       "26  14.0     4.90   5.12     5.78  5.74  6.08\n",
       "27  14.0     5.02   4.88     5.58  6.16  5.96\n",
       "28  15.0     4.56   5.36     5.80  5.86  6.14\n",
       "29  15.0     4.96   5.12     5.08  5.78  6.00"
      ]
     },
     "execution_count": 3,
     "metadata": {},
     "output_type": "execute_result"
    }
   ],
   "source": [
    "df"
   ]
  },
  {
   "cell_type": "markdown",
   "id": "a62b33de",
   "metadata": {},
   "source": [
    "# TOTAL GOLDZ AFTER 10 ATTACKS"
   ]
  },
  {
   "cell_type": "code",
   "execution_count": 4,
   "id": "256963dc",
   "metadata": {},
   "outputs": [
    {
     "data": {
      "text/html": [
       "<div>\n",
       "<style scoped>\n",
       "    .dataframe tbody tr th:only-of-type {\n",
       "        vertical-align: middle;\n",
       "    }\n",
       "\n",
       "    .dataframe tbody tr th {\n",
       "        vertical-align: top;\n",
       "    }\n",
       "\n",
       "    .dataframe thead th {\n",
       "        text-align: right;\n",
       "    }\n",
       "</style>\n",
       "<table border=\"1\" class=\"dataframe\">\n",
       "  <thead>\n",
       "    <tr style=\"text-align: right;\">\n",
       "      <th></th>\n",
       "      <th>no_hero</th>\n",
       "      <th>usual</th>\n",
       "      <th>unusual</th>\n",
       "      <th>rare</th>\n",
       "      <th>epic</th>\n",
       "    </tr>\n",
       "  </thead>\n",
       "  <tbody>\n",
       "    <tr>\n",
       "      <th>0</th>\n",
       "      <td>47.86</td>\n",
       "      <td>51.02</td>\n",
       "      <td>55.42</td>\n",
       "      <td>58.26</td>\n",
       "      <td>61.34</td>\n",
       "    </tr>\n",
       "  </tbody>\n",
       "</table>\n",
       "</div>"
      ],
      "text/plain": [
       "   no_hero  usual  unusual   rare   epic\n",
       "0    47.86  51.02    55.42  58.26  61.34"
      ]
     },
     "execution_count": 4,
     "metadata": {},
     "output_type": "execute_result"
    }
   ],
   "source": [
    "df_sum = get_df_columns_sum(df, ['no_hero','usual', 'unusual', 'rare', 'epic'])\n",
    "df_sum"
   ]
  },
  {
   "cell_type": "code",
   "execution_count": 5,
   "id": "72946109",
   "metadata": {
    "scrolled": false
   },
   "outputs": [
    {
     "data": {
      "text/plain": [
       "Text(0.5, 1.0, 'Total Goldz After 5 Days')"
      ]
     },
     "execution_count": 5,
     "metadata": {},
     "output_type": "execute_result"
    },
    {
     "data": {
      "image/png": "[encoded data removed]",
      "text/plain": [
       "<Figure size 1440x720 with 1 Axes>"
      ]
     },
     "metadata": {
      "needs_background": "light"
     },
     "output_type": "display_data"
    }
   ],
   "source": [
    "df_sum = pd.DataFrame({'heroes':df_sum.columns, 'goldz':df_sum.iloc[0].to_list()})\n",
    "\n",
    "ax = df_sum.plot.bar(x='heroes', y='goldz', rot=0, figsize=(20,10), fontsize=25, xlabel='Rarity')\n",
    "\n",
    "for container in ax.containers:\n",
    "    ax.bar_label(container, fontsize=20)\n",
    "\n",
    "\n",
    "ax.legend(prop={'size': 20})\n",
    "ax.set_ylabel(None,fontsize=20)\n",
    "\n",
    "\n",
    "ax.set_title(f\"Total Goldz After 5 Days\", fontsize=20)"
   ]
  },
  {
   "cell_type": "markdown",
   "id": "00c92a95",
   "metadata": {},
   "source": [
    "# GOLDZ AVERAGE ON EACH ATTACK"
   ]
  },
  {
   "cell_type": "code",
   "execution_count": 6,
   "id": "dd6ae4e2",
   "metadata": {},
   "outputs": [
    {
     "data": {
      "text/html": [
       "<div>\n",
       "<style scoped>\n",
       "    .dataframe tbody tr th:only-of-type {\n",
       "        vertical-align: middle;\n",
       "    }\n",
       "\n",
       "    .dataframe tbody tr th {\n",
       "        vertical-align: top;\n",
       "    }\n",
       "\n",
       "    .dataframe thead th {\n",
       "        text-align: right;\n",
       "    }\n",
       "</style>\n",
       "<table border=\"1\" class=\"dataframe\">\n",
       "  <thead>\n",
       "    <tr style=\"text-align: right;\">\n",
       "      <th></th>\n",
       "      <th>no_hero</th>\n",
       "      <th>usual</th>\n",
       "      <th>unusual</th>\n",
       "      <th>rare</th>\n",
       "      <th>epic</th>\n",
       "    </tr>\n",
       "  </thead>\n",
       "  <tbody>\n",
       "    <tr>\n",
       "      <th>0</th>\n",
       "      <td>4.786</td>\n",
       "      <td>5.102</td>\n",
       "      <td>5.542</td>\n",
       "      <td>5.826</td>\n",
       "      <td>6.134</td>\n",
       "    </tr>\n",
       "  </tbody>\n",
       "</table>\n",
       "</div>"
      ],
      "text/plain": [
       "   no_hero  usual  unusual   rare   epic\n",
       "0    4.786  5.102    5.542  5.826  6.134"
      ]
     },
     "execution_count": 6,
     "metadata": {},
     "output_type": "execute_result"
    }
   ],
   "source": [
    "df_mean = get_df_columns_mean(df, ['no_hero','usual', 'unusual', 'rare', 'epic'])\n",
    "df_mean"
   ]
  },
  {
   "cell_type": "code",
   "execution_count": 7,
   "id": "a0bc9b2f",
   "metadata": {},
   "outputs": [
    {
     "data": {
      "text/plain": [
       "Text(0.5, 1.0, 'Goldz Average on Each attack')"
      ]
     },
     "execution_count": 7,
     "metadata": {},
     "output_type": "execute_result"
    },
    {
     "data": {
      "image/png": "[encoded data removed]",
      "text/plain": [
       "<Figure size 1440x720 with 1 Axes>"
      ]
     },
     "metadata": {
      "needs_background": "light"
     },
     "output_type": "display_data"
    }
   ],
   "source": [
    "\n",
    "df_mean = pd.DataFrame({'heroes':df_mean.columns, 'goldz':df_mean.iloc[0].to_list()})\n",
    "\n",
    "ax = df_mean.plot.bar(x='heroes', y='goldz', rot=0, figsize=(20,10), fontsize=25, xlabel='Rarity')\n",
    "\n",
    "for container in ax.containers:\n",
    "    ax.bar_label(container, fontsize=20)\n",
    "\n",
    "\n",
    "ax.legend(prop={'size': 20})\n",
    "ax.set_ylabel(None,fontsize=20)\n",
    "\n",
    "\n",
    "ax.set_title(f\"Goldz Average on Each attack\", fontsize=20)"
   ]
  },
  {
   "cell_type": "markdown",
   "id": "e08b6ac6",
   "metadata": {},
   "source": [
    "# GOLDZ DIFFERENCE COMPARED TO NO HERO"
   ]
  },
  {
   "cell_type": "code",
   "execution_count": 8,
   "id": "e48f5089",
   "metadata": {},
   "outputs": [
    {
     "data": {
      "text/html": [
       "<div>\n",
       "<style scoped>\n",
       "    .dataframe tbody tr th:only-of-type {\n",
       "        vertical-align: middle;\n",
       "    }\n",
       "\n",
       "    .dataframe tbody tr th {\n",
       "        vertical-align: top;\n",
       "    }\n",
       "\n",
       "    .dataframe thead th {\n",
       "        text-align: right;\n",
       "    }\n",
       "</style>\n",
       "<table border=\"1\" class=\"dataframe\">\n",
       "  <thead>\n",
       "    <tr style=\"text-align: right;\">\n",
       "      <th></th>\n",
       "      <th>day</th>\n",
       "      <th>usual</th>\n",
       "      <th>unusual</th>\n",
       "      <th>rare</th>\n",
       "      <th>epic</th>\n",
       "    </tr>\n",
       "  </thead>\n",
       "  <tbody>\n",
       "    <tr>\n",
       "      <th>20</th>\n",
       "      <td>11.0</td>\n",
       "      <td>0.48</td>\n",
       "      <td>0.58</td>\n",
       "      <td>1.34</td>\n",
       "      <td>1.44</td>\n",
       "    </tr>\n",
       "    <tr>\n",
       "      <th>21</th>\n",
       "      <td>11.0</td>\n",
       "      <td>0.36</td>\n",
       "      <td>0.42</td>\n",
       "      <td>0.62</td>\n",
       "      <td>1.36</td>\n",
       "    </tr>\n",
       "    <tr>\n",
       "      <th>22</th>\n",
       "      <td>12.0</td>\n",
       "      <td>0.48</td>\n",
       "      <td>0.80</td>\n",
       "      <td>1.02</td>\n",
       "      <td>1.84</td>\n",
       "    </tr>\n",
       "    <tr>\n",
       "      <th>23</th>\n",
       "      <td>12.0</td>\n",
       "      <td>0.44</td>\n",
       "      <td>1.26</td>\n",
       "      <td>1.44</td>\n",
       "      <td>1.56</td>\n",
       "    </tr>\n",
       "    <tr>\n",
       "      <th>24</th>\n",
       "      <td>13.0</td>\n",
       "      <td>-0.14</td>\n",
       "      <td>0.50</td>\n",
       "      <td>0.76</td>\n",
       "      <td>1.10</td>\n",
       "    </tr>\n",
       "    <tr>\n",
       "      <th>25</th>\n",
       "      <td>13.0</td>\n",
       "      <td>0.50</td>\n",
       "      <td>1.20</td>\n",
       "      <td>1.12</td>\n",
       "      <td>1.44</td>\n",
       "    </tr>\n",
       "    <tr>\n",
       "      <th>26</th>\n",
       "      <td>14.0</td>\n",
       "      <td>0.22</td>\n",
       "      <td>0.88</td>\n",
       "      <td>0.84</td>\n",
       "      <td>1.18</td>\n",
       "    </tr>\n",
       "    <tr>\n",
       "      <th>27</th>\n",
       "      <td>14.0</td>\n",
       "      <td>-0.14</td>\n",
       "      <td>0.56</td>\n",
       "      <td>1.14</td>\n",
       "      <td>0.94</td>\n",
       "    </tr>\n",
       "    <tr>\n",
       "      <th>28</th>\n",
       "      <td>15.0</td>\n",
       "      <td>0.80</td>\n",
       "      <td>1.24</td>\n",
       "      <td>1.30</td>\n",
       "      <td>1.58</td>\n",
       "    </tr>\n",
       "    <tr>\n",
       "      <th>29</th>\n",
       "      <td>15.0</td>\n",
       "      <td>0.16</td>\n",
       "      <td>0.12</td>\n",
       "      <td>0.82</td>\n",
       "      <td>1.04</td>\n",
       "    </tr>\n",
       "  </tbody>\n",
       "</table>\n",
       "</div>"
      ],
      "text/plain": [
       "     day  usual  unusual  rare  epic\n",
       "20  11.0   0.48     0.58  1.34  1.44\n",
       "21  11.0   0.36     0.42  0.62  1.36\n",
       "22  12.0   0.48     0.80  1.02  1.84\n",
       "23  12.0   0.44     1.26  1.44  1.56\n",
       "24  13.0  -0.14     0.50  0.76  1.10\n",
       "25  13.0   0.50     1.20  1.12  1.44\n",
       "26  14.0   0.22     0.88  0.84  1.18\n",
       "27  14.0  -0.14     0.56  1.14  0.94\n",
       "28  15.0   0.80     1.24  1.30  1.58\n",
       "29  15.0   0.16     0.12  0.82  1.04"
      ]
     },
     "execution_count": 8,
     "metadata": {},
     "output_type": "execute_result"
    }
   ],
   "source": [
    "df = get_diff(df=df)\n",
    "df"
   ]
  },
  {
   "cell_type": "markdown",
   "id": "76769ba8",
   "metadata": {},
   "source": [
    "# TOTAL GOLDZ EARNED COMPARED TO NO HERO"
   ]
  },
  {
   "cell_type": "code",
   "execution_count": 9,
   "id": "7e30e489",
   "metadata": {},
   "outputs": [
    {
     "data": {
      "text/html": [
       "<div>\n",
       "<style scoped>\n",
       "    .dataframe tbody tr th:only-of-type {\n",
       "        vertical-align: middle;\n",
       "    }\n",
       "\n",
       "    .dataframe tbody tr th {\n",
       "        vertical-align: top;\n",
       "    }\n",
       "\n",
       "    .dataframe thead th {\n",
       "        text-align: right;\n",
       "    }\n",
       "</style>\n",
       "<table border=\"1\" class=\"dataframe\">\n",
       "  <thead>\n",
       "    <tr style=\"text-align: right;\">\n",
       "      <th></th>\n",
       "      <th>usual</th>\n",
       "      <th>unusual</th>\n",
       "      <th>rare</th>\n",
       "      <th>epic</th>\n",
       "    </tr>\n",
       "  </thead>\n",
       "  <tbody>\n",
       "    <tr>\n",
       "      <th>0</th>\n",
       "      <td>3.16</td>\n",
       "      <td>7.56</td>\n",
       "      <td>10.4</td>\n",
       "      <td>13.48</td>\n",
       "    </tr>\n",
       "  </tbody>\n",
       "</table>\n",
       "</div>"
      ],
      "text/plain": [
       "   usual  unusual  rare   epic\n",
       "0   3.16     7.56  10.4  13.48"
      ]
     },
     "execution_count": 9,
     "metadata": {},
     "output_type": "execute_result"
    }
   ],
   "source": [
    "df_diff_sum = get_df_columns_sum(df, ['usual', 'unusual', 'rare', 'epic'])\n",
    "df_diff_sum"
   ]
  },
  {
   "cell_type": "code",
   "execution_count": 10,
   "id": "9b5cebb2",
   "metadata": {},
   "outputs": [
    {
     "data": {
      "text/plain": [
       "Text(0.5, 1.0, 'Total Diff Goldz After 5 Days Compared to No Hero')"
      ]
     },
     "execution_count": 10,
     "metadata": {},
     "output_type": "execute_result"
    },
    {
     "data": {
      "image/png": "[encoded data removed]",
      "text/plain": [
       "<Figure size 1440x720 with 1 Axes>"
      ]
     },
     "metadata": {
      "needs_background": "light"
     },
     "output_type": "display_data"
    }
   ],
   "source": [
    "df_diff_sum = pd.DataFrame({'heroes':df_diff_sum.columns, 'goldz':df_diff_sum.iloc[0].to_list()})\n",
    "\n",
    "ax = df_diff_sum.plot.bar(x='heroes', y='goldz', rot=0, figsize=(20,10), fontsize=25, xlabel='Rarity')\n",
    "\n",
    "for container in ax.containers:\n",
    "    ax.bar_label(container, fontsize=20)\n",
    "\n",
    "\n",
    "ax.legend(prop={'size': 20})\n",
    "\n",
    "ax.set_title(f\"Total Diff Goldz After 5 Days Compared to No Hero\", fontsize=20)"
   ]
  },
  {
   "cell_type": "markdown",
   "id": "7b5e92e9",
   "metadata": {},
   "source": [
    "# GOLDZ DIFFERENCE EARNED PER ATTACK COMPARED TO NO HERO\n"
   ]
  },
  {
   "cell_type": "code",
   "execution_count": 11,
   "id": "38095c5a",
   "metadata": {},
   "outputs": [
    {
     "data": {
      "text/html": [
       "<div>\n",
       "<style scoped>\n",
       "    .dataframe tbody tr th:only-of-type {\n",
       "        vertical-align: middle;\n",
       "    }\n",
       "\n",
       "    .dataframe tbody tr th {\n",
       "        vertical-align: top;\n",
       "    }\n",
       "\n",
       "    .dataframe thead th {\n",
       "        text-align: right;\n",
       "    }\n",
       "</style>\n",
       "<table border=\"1\" class=\"dataframe\">\n",
       "  <thead>\n",
       "    <tr style=\"text-align: right;\">\n",
       "      <th></th>\n",
       "      <th>usual</th>\n",
       "      <th>unusual</th>\n",
       "      <th>rare</th>\n",
       "      <th>epic</th>\n",
       "    </tr>\n",
       "  </thead>\n",
       "  <tbody>\n",
       "    <tr>\n",
       "      <th>0</th>\n",
       "      <td>0.316</td>\n",
       "      <td>0.756</td>\n",
       "      <td>1.04</td>\n",
       "      <td>1.348</td>\n",
       "    </tr>\n",
       "  </tbody>\n",
       "</table>\n",
       "</div>"
      ],
      "text/plain": [
       "   usual  unusual  rare   epic\n",
       "0  0.316    0.756  1.04  1.348"
      ]
     },
     "execution_count": 11,
     "metadata": {},
     "output_type": "execute_result"
    }
   ],
   "source": [
    "df_diff_mean = get_df_columns_mean(df, ['usual', 'unusual', 'rare', 'epic'])\n",
    "df_diff_mean"
   ]
  },
  {
   "cell_type": "code",
   "execution_count": 12,
   "id": "a9dda8e7",
   "metadata": {},
   "outputs": [
    {
     "data": {
      "text/plain": [
       "Text(0.5, 1.0, 'Diff Goldz Average per Attack')"
      ]
     },
     "execution_count": 12,
     "metadata": {},
     "output_type": "execute_result"
    },
    {
     "data": {
      "image/png": "[encoded data removed]",
      "text/plain": [
       "<Figure size 1440x720 with 1 Axes>"
      ]
     },
     "metadata": {
      "needs_background": "light"
     },
     "output_type": "display_data"
    }
   ],
   "source": [
    "df_diff_mean = pd.DataFrame({'heroes':df_diff_mean.columns, 'goldz':df_diff_mean.iloc[0].to_list()})\n",
    "\n",
    "ax = df_diff_mean.plot.bar(x='heroes', y='goldz', rot=0, figsize=(20,10), fontsize=25, xlabel='Rarity')\n",
    "\n",
    "for container in ax.containers:\n",
    "    ax.bar_label(container, fontsize=20)\n",
    "\n",
    "\n",
    "ax.legend(prop={'size': 20})\n",
    "\n",
    "ax.set_title(f\"Diff Goldz Average per Attack\", fontsize=20)"
   ]
  },
  {
   "cell_type": "code",
   "execution_count": null,
   "id": "3e868d7b",
   "metadata": {},
   "outputs": [],
   "source": []
  }
 ],
 "metadata": {
  "kernelspec": {
   "display_name": "Python 3 (ipykernel)",
   "language": "python",
   "name": "python3"
  },
  "language_info": {
   "codemirror_mode": {
    "name": "ipython",
    "version": 3
   },
   "file_extension": ".py",
   "mimetype": "text/x-python",
   "name": "python",
   "nbconvert_exporter": "python",
   "pygments_lexer": "ipython3",
   "version": "3.9.7"
  }
 },
 "nbformat": 4,
 "nbformat_minor": 5
}
