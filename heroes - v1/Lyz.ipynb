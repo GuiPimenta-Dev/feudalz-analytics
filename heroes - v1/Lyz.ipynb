{
 "cells": [
  {
   "cell_type": "code",
   "execution_count": 1,
   "id": "6ad2d5a5",
   "metadata": {},
   "outputs": [],
   "source": [
    "import warnings\n",
    "import pandas as pd\n",
    "import matplotlib as mpl\n",
    "import matplotlib.pyplot as plt\n",
    "from game import Game\n",
    "from models import Player, Land, MockPlayer\n",
    "from utils.fc import get_df_over_increase, create_mock_game, simulation, merge_dfs, get_diff, get_df_columns_mean, get_df_columns_sum\n",
    "from utils.mpl import plot_scatter, plot_line_with_scatter"
   ]
  },
  {
   "cell_type": "code",
   "execution_count": 2,
   "id": "f2aa87f1",
   "metadata": {
    "scrolled": false
   },
   "outputs": [],
   "source": [
    "df = simulation(my_defense_bonus=0, my_attack_bonus=65, enemy_defense_bonus=13.8,group=False)\n",
    "df1 = simulation(my_defense_bonus=0, my_attack_bonus=65, enemy_defense_bonus=13.8,hero='lyz', rarity='common', group=False)\n",
    "df2 = simulation(my_defense_bonus=0, my_attack_bonus=65, enemy_defense_bonus=13.8,hero='lyz', rarity='uncommon', group=False)\n",
    "df3 = simulation(my_defense_bonus=0, my_attack_bonus=65, enemy_defense_bonus=13.8,hero='lyz', rarity='rare', group=False)\n",
    "df4 = simulation(my_defense_bonus=0, my_attack_bonus=65, enemy_defense_bonus=13.8,hero='lyz', rarity='epic', group=False)\n",
    "df = merge_dfs(dfs=[df, df1, df2, df3, df4], column='energy', pk='day', limits=(20,30))"
   ]
  },
  {
   "cell_type": "markdown",
   "id": "7ec326e0",
   "metadata": {},
   "source": [
    "# COMPARING ATTACKS BETWEEN RARITYS"
   ]
  },
  {
   "cell_type": "code",
   "execution_count": 3,
   "id": "6ce3de3d",
   "metadata": {},
   "outputs": [
    {
     "data": {
      "text/html": [
       "<div>\n",
       "<style scoped>\n",
       "    .dataframe tbody tr th:only-of-type {\n",
       "        vertical-align: middle;\n",
       "    }\n",
       "\n",
       "    .dataframe tbody tr th {\n",
       "        vertical-align: top;\n",
       "    }\n",
       "\n",
       "    .dataframe thead th {\n",
       "        text-align: right;\n",
       "    }\n",
       "</style>\n",
       "<table border=\"1\" class=\"dataframe\">\n",
       "  <thead>\n",
       "    <tr style=\"text-align: right;\">\n",
       "      <th></th>\n",
       "      <th>day</th>\n",
       "      <th>no_hero</th>\n",
       "      <th>common</th>\n",
       "      <th>uncommon</th>\n",
       "      <th>rare</th>\n",
       "      <th>epic</th>\n",
       "    </tr>\n",
       "  </thead>\n",
       "  <tbody>\n",
       "    <tr>\n",
       "      <th>20</th>\n",
       "      <td>11.0</td>\n",
       "      <td>-56.93</td>\n",
       "      <td>-40.74</td>\n",
       "      <td>-27.97</td>\n",
       "      <td>-15.76</td>\n",
       "      <td>0.0</td>\n",
       "    </tr>\n",
       "    <tr>\n",
       "      <th>21</th>\n",
       "      <td>11.0</td>\n",
       "      <td>-54.30</td>\n",
       "      <td>-42.09</td>\n",
       "      <td>-30.48</td>\n",
       "      <td>-14.66</td>\n",
       "      <td>0.0</td>\n",
       "    </tr>\n",
       "    <tr>\n",
       "      <th>22</th>\n",
       "      <td>12.0</td>\n",
       "      <td>-55.19</td>\n",
       "      <td>-37.01</td>\n",
       "      <td>-30.84</td>\n",
       "      <td>-16.47</td>\n",
       "      <td>0.0</td>\n",
       "    </tr>\n",
       "    <tr>\n",
       "      <th>23</th>\n",
       "      <td>12.0</td>\n",
       "      <td>-57.79</td>\n",
       "      <td>-44.62</td>\n",
       "      <td>-32.04</td>\n",
       "      <td>-10.91</td>\n",
       "      <td>0.0</td>\n",
       "    </tr>\n",
       "    <tr>\n",
       "      <th>24</th>\n",
       "      <td>13.0</td>\n",
       "      <td>-55.70</td>\n",
       "      <td>-41.14</td>\n",
       "      <td>-23.78</td>\n",
       "      <td>-14.91</td>\n",
       "      <td>0.0</td>\n",
       "    </tr>\n",
       "    <tr>\n",
       "      <th>25</th>\n",
       "      <td>13.0</td>\n",
       "      <td>-55.92</td>\n",
       "      <td>-40.52</td>\n",
       "      <td>-27.53</td>\n",
       "      <td>-10.28</td>\n",
       "      <td>0.0</td>\n",
       "    </tr>\n",
       "    <tr>\n",
       "      <th>26</th>\n",
       "      <td>14.0</td>\n",
       "      <td>-54.01</td>\n",
       "      <td>-39.52</td>\n",
       "      <td>-22.80</td>\n",
       "      <td>-15.15</td>\n",
       "      <td>0.0</td>\n",
       "    </tr>\n",
       "    <tr>\n",
       "      <th>27</th>\n",
       "      <td>14.0</td>\n",
       "      <td>-51.91</td>\n",
       "      <td>-43.05</td>\n",
       "      <td>-24.64</td>\n",
       "      <td>-15.73</td>\n",
       "      <td>0.0</td>\n",
       "    </tr>\n",
       "    <tr>\n",
       "      <th>28</th>\n",
       "      <td>15.0</td>\n",
       "      <td>-55.82</td>\n",
       "      <td>-38.50</td>\n",
       "      <td>-27.53</td>\n",
       "      <td>-9.67</td>\n",
       "      <td>0.0</td>\n",
       "    </tr>\n",
       "    <tr>\n",
       "      <th>29</th>\n",
       "      <td>15.0</td>\n",
       "      <td>-57.14</td>\n",
       "      <td>-38.58</td>\n",
       "      <td>-27.23</td>\n",
       "      <td>-16.54</td>\n",
       "      <td>0.0</td>\n",
       "    </tr>\n",
       "  </tbody>\n",
       "</table>\n",
       "</div>"
      ],
      "text/plain": [
       "     day  no_hero  common  uncommon   rare  epic\n",
       "20  11.0   -56.93 -40.74   -27.97 -15.76   0.0\n",
       "21  11.0   -54.30 -42.09   -30.48 -14.66   0.0\n",
       "22  12.0   -55.19 -37.01   -30.84 -16.47   0.0\n",
       "23  12.0   -57.79 -44.62   -32.04 -10.91   0.0\n",
       "24  13.0   -55.70 -41.14   -23.78 -14.91   0.0\n",
       "25  13.0   -55.92 -40.52   -27.53 -10.28   0.0\n",
       "26  14.0   -54.01 -39.52   -22.80 -15.15   0.0\n",
       "27  14.0   -51.91 -43.05   -24.64 -15.73   0.0\n",
       "28  15.0   -55.82 -38.50   -27.53  -9.67   0.0\n",
       "29  15.0   -57.14 -38.58   -27.23 -16.54   0.0"
      ]
     },
     "execution_count": 3,
     "metadata": {},
     "output_type": "execute_result"
    }
   ],
   "source": [
    "df"
   ]
  },
  {
   "cell_type": "markdown",
   "id": "a62b33de",
   "metadata": {},
   "source": [
    "# TOTAL ENERGY AFTER 10 ATTACKS"
   ]
  },
  {
   "cell_type": "code",
   "execution_count": 4,
   "id": "256963dc",
   "metadata": {},
   "outputs": [
    {
     "data": {
      "text/html": [
       "<div>\n",
       "<style scoped>\n",
       "    .dataframe tbody tr th:only-of-type {\n",
       "        vertical-align: middle;\n",
       "    }\n",
       "\n",
       "    .dataframe tbody tr th {\n",
       "        vertical-align: top;\n",
       "    }\n",
       "\n",
       "    .dataframe thead th {\n",
       "        text-align: right;\n",
       "    }\n",
       "</style>\n",
       "<table border=\"1\" class=\"dataframe\">\n",
       "  <thead>\n",
       "    <tr style=\"text-align: right;\">\n",
       "      <th></th>\n",
       "      <th>no_hero</th>\n",
       "      <th>common</th>\n",
       "      <th>uncommon</th>\n",
       "      <th>rare</th>\n",
       "      <th>epic</th>\n",
       "    </tr>\n",
       "  </thead>\n",
       "  <tbody>\n",
       "    <tr>\n",
       "      <th>0</th>\n",
       "      <td>-554.71</td>\n",
       "      <td>-405.77</td>\n",
       "      <td>-274.84</td>\n",
       "      <td>-140.08</td>\n",
       "      <td>0.0</td>\n",
       "    </tr>\n",
       "  </tbody>\n",
       "</table>\n",
       "</div>"
      ],
      "text/plain": [
       "   no_hero   common  uncommon    rare  epic\n",
       "0  -554.71 -405.77  -274.84 -140.08   0.0"
      ]
     },
     "execution_count": 4,
     "metadata": {},
     "output_type": "execute_result"
    }
   ],
   "source": [
    "df_sum = get_df_columns_sum(df, ['no_hero','common', 'uncommon', 'rare', 'epic'])\n",
    "df_sum"
   ]
  },
  {
   "cell_type": "code",
   "execution_count": 5,
   "id": "72946109",
   "metadata": {
    "scrolled": false
   },
   "outputs": [
    {
     "data": {
      "text/plain": [
       "Text(0.5, 1.0, 'Total Energy Spent After 10 Attacks')"
      ]
     },
     "execution_count": 5,
     "metadata": {},
     "output_type": "execute_result"
    },
    {
     "data": {
      "image/png": "[encoded data removed]",
      "text/plain": [
       "<Figure size 1440x720 with 1 Axes>"
      ]
     },
     "metadata": {
      "needs_background": "light"
     },
     "output_type": "display_data"
    }
   ],
   "source": [
    "df_sum = pd.DataFrame({'heroes':df_sum.columns, 'goldz':df_sum.iloc[0].to_list()})\n",
    "\n",
    "ax = df_sum.plot.bar(x='heroes', y='goldz', rot=0, figsize=(20,10), fontsize=25, xlabel='Rarity')\n",
    "\n",
    "for container in ax.containers:\n",
    "    ax.bar_label(container, fontsize=20)\n",
    "\n",
    "\n",
    "ax.legend(prop={'size': 20})\n",
    "ax.set_ylabel(None,fontsize=20)\n",
    "\n",
    "\n",
    "ax.set_title(f\"Total Energy Spent After 10 Attacks\", fontsize=20)"
   ]
  },
  {
   "cell_type": "markdown",
   "id": "00c92a95",
   "metadata": {},
   "source": [
    "# ENERGY AVERAGE ON EACH ATTACK"
   ]
  },
  {
   "cell_type": "code",
   "execution_count": 6,
   "id": "dd6ae4e2",
   "metadata": {},
   "outputs": [
    {
     "data": {
      "text/html": [
       "<div>\n",
       "<style scoped>\n",
       "    .dataframe tbody tr th:only-of-type {\n",
       "        vertical-align: middle;\n",
       "    }\n",
       "\n",
       "    .dataframe tbody tr th {\n",
       "        vertical-align: top;\n",
       "    }\n",
       "\n",
       "    .dataframe thead th {\n",
       "        text-align: right;\n",
       "    }\n",
       "</style>\n",
       "<table border=\"1\" class=\"dataframe\">\n",
       "  <thead>\n",
       "    <tr style=\"text-align: right;\">\n",
       "      <th></th>\n",
       "      <th>no_hero</th>\n",
       "      <th>common</th>\n",
       "      <th>uncommon</th>\n",
       "      <th>rare</th>\n",
       "      <th>epic</th>\n",
       "    </tr>\n",
       "  </thead>\n",
       "  <tbody>\n",
       "    <tr>\n",
       "      <th>0</th>\n",
       "      <td>-55.471</td>\n",
       "      <td>-40.577</td>\n",
       "      <td>-27.484</td>\n",
       "      <td>-14.008</td>\n",
       "      <td>0.0</td>\n",
       "    </tr>\n",
       "  </tbody>\n",
       "</table>\n",
       "</div>"
      ],
      "text/plain": [
       "   no_hero   common  uncommon    rare  epic\n",
       "0  -55.471 -40.577  -27.484 -14.008   0.0"
      ]
     },
     "execution_count": 6,
     "metadata": {},
     "output_type": "execute_result"
    }
   ],
   "source": [
    "df_mean = get_df_columns_mean(df, ['no_hero','common', 'uncommon', 'rare', 'epic'])\n",
    "df_mean"
   ]
  },
  {
   "cell_type": "code",
   "execution_count": 7,
   "id": "a0bc9b2f",
   "metadata": {},
   "outputs": [
    {
     "data": {
      "text/plain": [
       "Text(0.5, 1.0, 'Energy Average on Each attack')"
      ]
     },
     "execution_count": 7,
     "metadata": {},
     "output_type": "execute_result"
    },
    {
     "data": {
      "image/png": "[encoded data removed]",
      "text/plain": [
       "<Figure size 1440x720 with 1 Axes>"
      ]
     },
     "metadata": {
      "needs_background": "light"
     },
     "output_type": "display_data"
    }
   ],
   "source": [
    "\n",
    "df_mean = pd.DataFrame({'heroes':df_mean.columns, 'energy':df_mean.iloc[0].to_list()})\n",
    "\n",
    "ax = df_mean.plot.bar(x='heroes', y='energy', rot=0, figsize=(20,10), fontsize=25, xlabel='Rarity')\n",
    "\n",
    "for container in ax.containers:\n",
    "    ax.bar_label(container, fontsize=20)\n",
    "\n",
    "\n",
    "ax.legend(prop={'size': 20})\n",
    "ax.set_ylabel(None,fontsize=20)\n",
    "\n",
    "\n",
    "ax.set_title(f\"Energy Average on Each attack\", fontsize=20)"
   ]
  },
  {
   "cell_type": "markdown",
   "id": "e08b6ac6",
   "metadata": {},
   "source": [
    "# ENERGY DIFFERENCE COMPARED TO NO HERO"
   ]
  },
  {
   "cell_type": "code",
   "execution_count": 8,
   "id": "e48f5089",
   "metadata": {},
   "outputs": [
    {
     "data": {
      "text/html": [
       "<div>\n",
       "<style scoped>\n",
       "    .dataframe tbody tr th:only-of-type {\n",
       "        vertical-align: middle;\n",
       "    }\n",
       "\n",
       "    .dataframe tbody tr th {\n",
       "        vertical-align: top;\n",
       "    }\n",
       "\n",
       "    .dataframe thead th {\n",
       "        text-align: right;\n",
       "    }\n",
       "</style>\n",
       "<table border=\"1\" class=\"dataframe\">\n",
       "  <thead>\n",
       "    <tr style=\"text-align: right;\">\n",
       "      <th></th>\n",
       "      <th>day</th>\n",
       "      <th>common</th>\n",
       "      <th>uncommon</th>\n",
       "      <th>rare</th>\n",
       "      <th>epic</th>\n",
       "    </tr>\n",
       "  </thead>\n",
       "  <tbody>\n",
       "    <tr>\n",
       "      <th>20</th>\n",
       "      <td>11.0</td>\n",
       "      <td>16.19</td>\n",
       "      <td>28.96</td>\n",
       "      <td>41.17</td>\n",
       "      <td>56.93</td>\n",
       "    </tr>\n",
       "    <tr>\n",
       "      <th>21</th>\n",
       "      <td>11.0</td>\n",
       "      <td>12.21</td>\n",
       "      <td>23.82</td>\n",
       "      <td>39.64</td>\n",
       "      <td>54.30</td>\n",
       "    </tr>\n",
       "    <tr>\n",
       "      <th>22</th>\n",
       "      <td>12.0</td>\n",
       "      <td>18.18</td>\n",
       "      <td>24.35</td>\n",
       "      <td>38.72</td>\n",
       "      <td>55.19</td>\n",
       "    </tr>\n",
       "    <tr>\n",
       "      <th>23</th>\n",
       "      <td>12.0</td>\n",
       "      <td>13.17</td>\n",
       "      <td>25.75</td>\n",
       "      <td>46.88</td>\n",
       "      <td>57.79</td>\n",
       "    </tr>\n",
       "    <tr>\n",
       "      <th>24</th>\n",
       "      <td>13.0</td>\n",
       "      <td>14.56</td>\n",
       "      <td>31.92</td>\n",
       "      <td>40.79</td>\n",
       "      <td>55.70</td>\n",
       "    </tr>\n",
       "    <tr>\n",
       "      <th>25</th>\n",
       "      <td>13.0</td>\n",
       "      <td>15.40</td>\n",
       "      <td>28.39</td>\n",
       "      <td>45.64</td>\n",
       "      <td>55.92</td>\n",
       "    </tr>\n",
       "    <tr>\n",
       "      <th>26</th>\n",
       "      <td>14.0</td>\n",
       "      <td>14.49</td>\n",
       "      <td>31.21</td>\n",
       "      <td>38.86</td>\n",
       "      <td>54.01</td>\n",
       "    </tr>\n",
       "    <tr>\n",
       "      <th>27</th>\n",
       "      <td>14.0</td>\n",
       "      <td>8.86</td>\n",
       "      <td>27.27</td>\n",
       "      <td>36.18</td>\n",
       "      <td>51.91</td>\n",
       "    </tr>\n",
       "    <tr>\n",
       "      <th>28</th>\n",
       "      <td>15.0</td>\n",
       "      <td>17.32</td>\n",
       "      <td>28.29</td>\n",
       "      <td>46.15</td>\n",
       "      <td>55.82</td>\n",
       "    </tr>\n",
       "    <tr>\n",
       "      <th>29</th>\n",
       "      <td>15.0</td>\n",
       "      <td>18.56</td>\n",
       "      <td>29.91</td>\n",
       "      <td>40.60</td>\n",
       "      <td>57.14</td>\n",
       "    </tr>\n",
       "  </tbody>\n",
       "</table>\n",
       "</div>"
      ],
      "text/plain": [
       "     day  common  uncommon   rare   epic\n",
       "20  11.0  16.19    28.96  41.17  56.93\n",
       "21  11.0  12.21    23.82  39.64  54.30\n",
       "22  12.0  18.18    24.35  38.72  55.19\n",
       "23  12.0  13.17    25.75  46.88  57.79\n",
       "24  13.0  14.56    31.92  40.79  55.70\n",
       "25  13.0  15.40    28.39  45.64  55.92\n",
       "26  14.0  14.49    31.21  38.86  54.01\n",
       "27  14.0   8.86    27.27  36.18  51.91\n",
       "28  15.0  17.32    28.29  46.15  55.82\n",
       "29  15.0  18.56    29.91  40.60  57.14"
      ]
     },
     "execution_count": 8,
     "metadata": {},
     "output_type": "execute_result"
    }
   ],
   "source": [
    "df = get_diff(df=df)\n",
    "df"
   ]
  },
  {
   "cell_type": "markdown",
   "id": "76769ba8",
   "metadata": {},
   "source": [
    "# TOTAL ENERGY SPENT COMPARED TO NO HERO"
   ]
  },
  {
   "cell_type": "code",
   "execution_count": 9,
   "id": "7e30e489",
   "metadata": {},
   "outputs": [
    {
     "data": {
      "text/html": [
       "<div>\n",
       "<style scoped>\n",
       "    .dataframe tbody tr th:only-of-type {\n",
       "        vertical-align: middle;\n",
       "    }\n",
       "\n",
       "    .dataframe tbody tr th {\n",
       "        vertical-align: top;\n",
       "    }\n",
       "\n",
       "    .dataframe thead th {\n",
       "        text-align: right;\n",
       "    }\n",
       "</style>\n",
       "<table border=\"1\" class=\"dataframe\">\n",
       "  <thead>\n",
       "    <tr style=\"text-align: right;\">\n",
       "      <th></th>\n",
       "      <th>common</th>\n",
       "      <th>uncommon</th>\n",
       "      <th>rare</th>\n",
       "      <th>epic</th>\n",
       "    </tr>\n",
       "  </thead>\n",
       "  <tbody>\n",
       "    <tr>\n",
       "      <th>0</th>\n",
       "      <td>148.94</td>\n",
       "      <td>279.87</td>\n",
       "      <td>414.63</td>\n",
       "      <td>554.71</td>\n",
       "    </tr>\n",
       "  </tbody>\n",
       "</table>\n",
       "</div>"
      ],
      "text/plain": [
       "    common  uncommon    rare    epic\n",
       "0  148.94   279.87  414.63  554.71"
      ]
     },
     "execution_count": 9,
     "metadata": {},
     "output_type": "execute_result"
    }
   ],
   "source": [
    "df_diff_sum = get_df_columns_sum(df, ['common', 'uncommon', 'rare', 'epic'])\n",
    "df_diff_sum"
   ]
  },
  {
   "cell_type": "code",
   "execution_count": 10,
   "id": "9b5cebb2",
   "metadata": {},
   "outputs": [
    {
     "data": {
      "text/plain": [
       "Text(0.5, 1.0, 'Total Diff Energy Compared to No Hero')"
      ]
     },
     "execution_count": 10,
     "metadata": {},
     "output_type": "execute_result"
    },
    {
     "data": {
      "image/png": "[encoded data removed]",
      "text/plain": [
       "<Figure size 1440x720 with 1 Axes>"
      ]
     },
     "metadata": {
      "needs_background": "light"
     },
     "output_type": "display_data"
    }
   ],
   "source": [
    "df_diff_sum = pd.DataFrame({'heroes':df_diff_sum.columns, 'energy':df_diff_sum.iloc[0].to_list()})\n",
    "\n",
    "ax = df_diff_sum.plot.bar(x='heroes', y='energy', rot=0, figsize=(20,10), fontsize=25, xlabel='Rarity')\n",
    "\n",
    "for container in ax.containers:\n",
    "    ax.bar_label(container, fontsize=20)\n",
    "\n",
    "\n",
    "ax.legend(prop={'size': 20})\n",
    "\n",
    "ax.set_title(f\"Total Diff Energy Compared to No Hero\", fontsize=20)"
   ]
  },
  {
   "cell_type": "markdown",
   "id": "7b5e92e9",
   "metadata": {},
   "source": [
    "# ENERGY DIFFERENCE SPENT PER ATTACK COMPARED TO NO HERO\n"
   ]
  },
  {
   "cell_type": "code",
   "execution_count": 11,
   "id": "38095c5a",
   "metadata": {},
   "outputs": [
    {
     "data": {
      "text/html": [
       "<div>\n",
       "<style scoped>\n",
       "    .dataframe tbody tr th:only-of-type {\n",
       "        vertical-align: middle;\n",
       "    }\n",
       "\n",
       "    .dataframe tbody tr th {\n",
       "        vertical-align: top;\n",
       "    }\n",
       "\n",
       "    .dataframe thead th {\n",
       "        text-align: right;\n",
       "    }\n",
       "</style>\n",
       "<table border=\"1\" class=\"dataframe\">\n",
       "  <thead>\n",
       "    <tr style=\"text-align: right;\">\n",
       "      <th></th>\n",
       "      <th>common</th>\n",
       "      <th>uncommon</th>\n",
       "      <th>rare</th>\n",
       "      <th>epic</th>\n",
       "    </tr>\n",
       "  </thead>\n",
       "  <tbody>\n",
       "    <tr>\n",
       "      <th>0</th>\n",
       "      <td>14.894</td>\n",
       "      <td>27.987</td>\n",
       "      <td>41.463</td>\n",
       "      <td>55.471</td>\n",
       "    </tr>\n",
       "  </tbody>\n",
       "</table>\n",
       "</div>"
      ],
      "text/plain": [
       "    common  uncommon    rare    epic\n",
       "0  14.894   27.987  41.463  55.471"
      ]
     },
     "execution_count": 11,
     "metadata": {},
     "output_type": "execute_result"
    }
   ],
   "source": [
    "df_diff_mean = get_df_columns_mean(df, ['common', 'uncommon', 'rare', 'epic'])\n",
    "df_diff_mean"
   ]
  },
  {
   "cell_type": "code",
   "execution_count": 12,
   "id": "a9dda8e7",
   "metadata": {},
   "outputs": [
    {
     "data": {
      "text/plain": [
       "Text(0.5, 1.0, 'Diff Energy Average per Attack')"
      ]
     },
     "execution_count": 12,
     "metadata": {},
     "output_type": "execute_result"
    },
    {
     "data": {
      "image/png": "[encoded data removed]",
      "text/plain": [
       "<Figure size 1440x720 with 1 Axes>"
      ]
     },
     "metadata": {
      "needs_background": "light"
     },
     "output_type": "display_data"
    }
   ],
   "source": [
    "df_diff_mean = pd.DataFrame({'heroes':df_diff_mean.columns, 'energy':df_diff_mean.iloc[0].to_list()})\n",
    "\n",
    "ax = df_diff_mean.plot.bar(x='heroes', y='energy', rot=0, figsize=(20,10), fontsize=25, xlabel='Rarity')\n",
    "\n",
    "for container in ax.containers:\n",
    "    ax.bar_label(container, fontsize=20)\n",
    "\n",
    "\n",
    "ax.legend(prop={'size': 20})\n",
    "\n",
    "ax.set_title(f\"Diff Energy Average per Attack\", fontsize=20)"
   ]
  },
  {
   "cell_type": "code",
   "execution_count": null,
   "id": "0245deb5",
   "metadata": {},
   "outputs": [],
   "source": []
  }
 ],
 "metadata": {
  "kernelspec": {
   "display_name": "Python 3 (ipykernel)",
   "language": "python",
   "name": "python3"
  },
  "language_info": {
   "codemirror_mode": {
    "name": "ipython",
    "version": 3
   },
   "file_extension": ".py",
   "mimetype": "text/x-python",
   "name": "python",
   "nbconvert_exporter": "python",
   "pygments_lexer": "ipython3",
   "version": "3.9.7"
  }
 },
 "nbformat": 4,
 "nbformat_minor": 5
}
